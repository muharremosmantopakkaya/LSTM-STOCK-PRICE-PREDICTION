{
  "nbformat": 4,
  "nbformat_minor": 0,
  "metadata": {
    "colab": {
      "provenance": [],
      "authorship_tag": "ABX9TyMzhfTGhIpHEOs1xg+nb8z0",
      "include_colab_link": true
    },
    "kernelspec": {
      "name": "python3",
      "display_name": "Python 3"
    },
    "language_info": {
      "name": "python"
    }
  },
  "cells": [
    {
      "cell_type": "markdown",
      "metadata": {
        "id": "view-in-github",
        "colab_type": "text"
      },
      "source": [
        "<a href=\"https://colab.research.google.com/github/muharremosmantopakkaya/LSTM-STOCK-PRICE-PREDICTION/blob/master/LSTM-STOCK-PRICE-PREDICTION.ipynb\" target=\"_parent\"><img src=\"https://colab.research.google.com/assets/colab-badge.svg\" alt=\"Open In Colab\"/></a>"
      ]
    },
    {
      "cell_type": "markdown",
      "source": [],
      "metadata": {
        "id": "ckGURgLToRrp"
      }
    },
    {
      "cell_type": "markdown",
      "source": [
        "### LSTM KULLANARAK HİSSE SENEDİ FİYAT TAHMİNİ\n",
        "\n",
        "Bu uygulama, finansal veri analizi için Python'da LSTM (Uzun Kısa Vadeli Bellek) modelinin kullanımını göstermektedir. Veri indirme, model oluşturma ve tahminlerin görselleştirilmesi adımlarını içermektedir. LSTM modeli, bir hisse senedinin kapanış fiyatlarını tahmin etmek için kullanılmıştır. Kod blokları, hisse senedi verilerinin alınması, modelin eğitilmesi ve tahminlerin çizimlerle görselleştirilmesini içermektedir."
      ],
      "metadata": {
        "id": "aX2oNqIUocS9"
      }
    },
    {
      "cell_type": "code",
      "execution_count": null,
      "metadata": {
        "id": "nrvDvyJtnfKJ"
      },
      "outputs": [],
      "source": [
        "import numpy as np\n",
        "import pandas as pd\n",
        "import matplotlib.pyplot as plt\n",
        "from sklearn.preprocessing import MinMaxScaler\n",
        "from keras.models import Sequential\n",
        "from keras.layers import LSTM, Dense, Dropout\n",
        "import yfinance as yf"
      ]
    },
    {
      "cell_type": "markdown",
      "source": [],
      "metadata": {
        "id": "lTO_S_ysnhEV"
      }
    },
    {
      "cell_type": "markdown",
      "source": [
        "# Hisse senedi verisini alma"
      ],
      "metadata": {
        "id": "MHOAs9sEni8n"
      }
    },
    {
      "cell_type": "code",
      "source": [
        "ticker = 'THYAO.IS'\n",
        "start_date = '2015-01-01'\n",
        "end_date = '2023-01-01'\n",
        "stock_data = yf.download(ticker, start=start_date, end=end_date)"
      ],
      "metadata": {
        "id": "Jx1wOEWRngA2"
      },
      "execution_count": null,
      "outputs": []
    },
    {
      "cell_type": "markdown",
      "source": [
        "\n",
        "# Kapanış fiyatlarını görselleştirme"
      ],
      "metadata": {
        "id": "sKsNTzSOnm9f"
      }
    },
    {
      "cell_type": "code",
      "source": [
        "plt.style.use('dark_background')\n",
        "plt.figure(figsize=(16, 8))\n",
        "plt.title('Kapanış Fiyatı')\n",
        "plt.plot(stock_data['Close'])\n",
        "plt.xlabel('Tarih', fontsize=18)\n",
        "plt.ylabel('Kapanış Fiyatı (TL)', fontsize=18)\n",
        "plt.show()"
      ],
      "metadata": {
        "id": "Fe6ge5Wknha0"
      },
      "execution_count": null,
      "outputs": []
    },
    {
      "cell_type": "markdown",
      "source": [
        "# Veri hazırlama"
      ],
      "metadata": {
        "id": "5y6_XmtpnovI"
      }
    },
    {
      "cell_type": "code",
      "source": [
        "data = stock_data.filter(['Close'])\n",
        "dataset = data.values\n",
        "scaler = MinMaxScaler(feature_range=(0, 1))\n",
        "scaled_data = scaler.fit_transform(dataset)\n"
      ],
      "metadata": {
        "id": "gFPwt4uBnqSY"
      },
      "execution_count": null,
      "outputs": []
    },
    {
      "cell_type": "markdown",
      "source": [
        "# Eğitim veri uzunluğu"
      ],
      "metadata": {
        "id": "OfgzWTuinsQB"
      }
    },
    {
      "cell_type": "code",
      "source": [
        "training_data_len = int(len(dataset) * 0.8)\n",
        "train_data = scaled_data[:training_data_len, :]\n",
        "test_data = scaled_data[training_data_len - 60:, :]\n"
      ],
      "metadata": {
        "id": "_kTp7sRYnuyG"
      },
      "execution_count": null,
      "outputs": []
    },
    {
      "cell_type": "markdown",
      "source": [
        "# Eğitim veri seti oluşturma\n"
      ],
      "metadata": {
        "id": "19vVrWaJnwfi"
      }
    },
    {
      "cell_type": "code",
      "source": [
        "x_train, y_train = [], []\n",
        "for i in range(60, len(train_data)):\n",
        "    x_train.append(train_data[i - 60:i, 0])\n",
        "    y_train.append(train_data[i, 0])\n",
        "\n",
        "x_train, y_train = np.array(x_train), np.array(y_train)\n",
        "x_train = np.reshape(x_train, (x_train.shape[0], x_train.shape[1], 1))\n"
      ],
      "metadata": {
        "id": "l4Dt3R5PnyU9"
      },
      "execution_count": null,
      "outputs": []
    },
    {
      "cell_type": "markdown",
      "source": [
        "# LSTM modeli oluşturma ve eğitme\n"
      ],
      "metadata": {
        "id": "py_LRhuHn0nR"
      }
    },
    {
      "cell_type": "code",
      "source": [
        "model = Sequential()\n",
        "model.add(LSTM(100, return_sequences=True, input_shape=(x_train.shape[1], 1)))\n",
        "model.add(Dropout(0.2))\n",
        "model.add(LSTM(100, return_sequences=False))\n",
        "model.add(Dropout(0.2))\n",
        "model.add(Dense(25))\n",
        "model.add(Dense(1))\n",
        "\n",
        "model.compile(optimizer='adam', loss='mean_squared_error')\n",
        "model.fit(x_train, y_train, batch_size=32, epochs=17)"
      ],
      "metadata": {
        "id": "YRmCSNkmnz8j"
      },
      "execution_count": null,
      "outputs": []
    },
    {
      "cell_type": "markdown",
      "source": [
        "# Modelin test edilmesi\n"
      ],
      "metadata": {
        "id": "GPCxsl3Bn45j"
      }
    },
    {
      "cell_type": "code",
      "source": [
        "x_test = []\n",
        "y_test = dataset[training_data_len:, :]\n",
        "for i in range(60, len(test_data)):\n",
        "    x_test.append(test_data[i - 60:i, 0])\n",
        "\n",
        "x_test = np.array(x_test)\n",
        "x_test = np.reshape(x_test, (x_test.shape[0], x_test.shape[1], 1))\n",
        "\n",
        "predictions = model.predict(x_test)\n",
        "predictions = scaler.inverse_transform(predictions)"
      ],
      "metadata": {
        "id": "vddHM1uhn4YN"
      },
      "execution_count": null,
      "outputs": []
    },
    {
      "cell_type": "markdown",
      "source": [
        "# Grafik çizimi"
      ],
      "metadata": {
        "id": "MoqBR3Mun8H1"
      }
    },
    {
      "cell_type": "code",
      "source": [
        "train = data[:training_data_len]\n",
        "valid = data[training_data_len:]\n",
        "valid['predictions'] = predictions\n",
        "\n",
        "plt.figure(figsize=(16, 8))\n",
        "plt.title('Model Tahmin Sonuçları - Amazon Hisse Senedi')\n",
        "plt.xlabel('Tarih', fontsize=18)\n",
        "plt.ylabel('Kapanış Fiyatı (USD)', fontsize=18)\n",
        "\n",
        "plt.plot(train['Close'], color='red', label='Eğitim Veri Seti')\n",
        "plt.plot(valid['Close'], color='yellow', label='Test Veri Seti')\n",
        "plt.plot(valid['predictions'], color='green', label='Tahminler')\n",
        "\n",
        "plt.legend(loc='upper left')  # Legend konumunu değiştirilebilir\n",
        "\n",
        "plt.show()"
      ],
      "metadata": {
        "id": "jLq0OXahn7hi"
      },
      "execution_count": null,
      "outputs": []
    },
    {
      "cell_type": "markdown",
      "source": [
        "# Grafik çizimi"
      ],
      "metadata": {
        "id": "iGOlcZSsoGzi"
      }
    },
    {
      "cell_type": "code",
      "source": [
        "\n",
        "train = data[:training_data_len]\n",
        "valid = data[training_data_len:].copy()\n",
        "valid['predictions'] = predictions"
      ],
      "metadata": {
        "id": "_DLYFgWZoFmK"
      },
      "execution_count": null,
      "outputs": []
    },
    {
      "cell_type": "markdown",
      "source": [
        "# Son 15 günü görüntüleme"
      ],
      "metadata": {
        "id": "4ZYgIacjoIPj"
      }
    },
    {
      "cell_type": "code",
      "source": [
        "print(valid.tail(15))"
      ],
      "metadata": {
        "id": "EGJgGkvnoEgB"
      },
      "execution_count": null,
      "outputs": []
    },
    {
      "cell_type": "markdown",
      "source": [
        "# İleriye dönük 1 ay için fiyat tahmini yapma"
      ],
      "metadata": {
        "id": "KkYBHrdhoDpw"
      }
    },
    {
      "cell_type": "code",
      "source": [
        "last_60_days = scaled_data[-60:]\n",
        "X_test = np.array([last_60_days])\n",
        "X_test = np.reshape(X_test, (X_test.shape[0], X_test.shape[1], 1))\n",
        "\n",
        "pred_price_1months = model.predict(X_test)\n",
        "pred_price_1months = scaler.inverse_transform(pred_price_1months)\n",
        "print(f'{ticker} için 1 ay sonraki fiyat: {pred_price_1months[0][0]}')"
      ],
      "metadata": {
        "id": "4dd-9LYEoOTG"
      },
      "execution_count": null,
      "outputs": []
    }
  ]
}